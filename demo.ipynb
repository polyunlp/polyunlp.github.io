{
 "cells": [
  {
   "cell_type": "code",
   "execution_count": 1,
   "metadata": {},
   "outputs": [],
   "source": [
    "x = '''[October 7, 2023] Congratulations to Yongqi Li and Yi Cheng for their hard work and the papers accepted into AAAI2024.\n",
    "\n",
    "[October 7, 2023] We have 4 papers accepted into EMNLP2023. Congratulations to Chak Tou Leong, Jian Wang, Wenjun Hou and Shichao Sun.\n",
    "\n",
    "[September 22, 2023] Congratulations to our lovely girl, Jiashuo Wang. It is really good for her to have a paper, Aligning Language Models with Human Preferences via a Bayesian Approach, accepted into NeurIPS2023.\n",
    "\n",
    "[May 2, 2023] Congratulations to all the students who contributed. 3 papers were accepted by ACL2023 main conference (Multiview Identifiers Enhanced Generative Retrieval, ORGAN: Observation-Guided Radiology Report Generation via Tree Reasoning, and Enhancing Event Causality Identification with Counterfactual Reasoning), and 3 papers were accepted by ACL Findings (Dialogue Planning via Brownian Bridge Stochastic Process for Goal-directed Dialogue Generation, Medical Dialogue Generation via Dual Flow Modeling, and Separating Context and Pattern: Learning Disentangled Sentence Representations for Low-Data Extractive Summarization). The acceptance rate is approaching to 100%.\n",
    "\n",
    "[November 11, 2022] Congratulations to Dongding Lin, Jian Wang and Ruifeng Yuan. Their work on Improving Conversational Recommender Systems by Collaborative Augmentation and Preserve Context Information through Interpretability for Extract-Generate Long-Input Summarization Framework was accepted into AAAI2022.\n",
    "\n",
    "[October 6, 2022] Yi Cheng, Ruifeng Yuan and Jiashuo Wang have their papers, Few-shot Query-Focused Summarization with Prefix-Merging, CARE: Causality Reasoning for Empathetic Responses by Conditional Graph Generation and Improving Multi-turn Emotional Support Dialogue Generation with Lookahead Strategy Planning, accepted into EMNLP2022. Congratulations!\n",
    "\n",
    "[April 21, 2022] Congratulations to Feiteng Mu, Yi Cheng and Wenge Liu. Their work on causality reasoning enhanced text generation and interpretable medical diagnosis were accepted into IJCAI2022.\n",
    "\n",
    "[February 10, 2022] Congratulations to Yongqi Li. His work on Conversational Question Answering over Text, Tables, and Images was accepted by ACL2022.\n",
    "\n",
    "[June 10, 2021] Jian Wang and Dongding Lin 2021 won the third prizes (fourth place) in 语言与智能技术竞赛: 多技能对话任务.^D6C23482280EC1B1989C1C67D673F1E973631F4199DA4E979D^pimgpsh_thumbnail_win_distr\n",
    "\n",
    "[July 26, 2017]: Yanran Li is selected as a scholarship recipient of the 2017 Women Techmakers Scholars Program!\n",
    "\n",
    "[September 30, 2016]: Ziqiang Cao won the 2016 Microsoft Research Asia PhD Fellowship Award!'''"
   ]
  },
  {
   "cell_type": "code",
   "execution_count": 2,
   "metadata": {},
   "outputs": [],
   "source": [
    "x = x.split('\\n\\n')"
   ]
  },
  {
   "cell_type": "code",
   "execution_count": 3,
   "metadata": {},
   "outputs": [],
   "source": [
    "t = \"\"\n",
    "for xx in x:\n",
    "    t += f\"<p>{xx}</p>\\n\""
   ]
  },
  {
   "cell_type": "code",
   "execution_count": 4,
   "metadata": {},
   "outputs": [
    {
     "name": "stdout",
     "output_type": "stream",
     "text": [
      "<p>[October 7, 2023] Congratulations to Yongqi Li and Yi Cheng for their hard work and the papers accepted into AAAI2024.</p>\n",
      "<p>[October 7, 2023] We have 4 papers accepted into EMNLP2023. Congratulations to Chak Tou Leong, Jian Wang, Wenjun Hou and Shichao Sun.</p>\n",
      "<p>[September 22, 2023] Congratulations to our lovely girl, Jiashuo Wang. It is really good for her to have a paper, Aligning Language Models with Human Preferences via a Bayesian Approach, accepted into NeurIPS2023.</p>\n",
      "<p>[May 2, 2023] Congratulations to all the students who contributed. 3 papers were accepted by ACL2023 main conference (Multiview Identifiers Enhanced Generative Retrieval, ORGAN: Observation-Guided Radiology Report Generation via Tree Reasoning, and Enhancing Event Causality Identification with Counterfactual Reasoning), and 3 papers were accepted by ACL Findings (Dialogue Planning via Brownian Bridge Stochastic Process for Goal-directed Dialogue Generation, Medical Dialogue Generation via Dual Flow Modeling, and Separating Context and Pattern: Learning Disentangled Sentence Representations for Low-Data Extractive Summarization). The acceptance rate is approaching to 100%.</p>\n",
      "<p>[November 11, 2022] Congratulations to Dongding Lin, Jian Wang and Ruifeng Yuan. Their work on Improving Conversational Recommender Systems by Collaborative Augmentation and Preserve Context Information through Interpretability for Extract-Generate Long-Input Summarization Framework was accepted into AAAI2022.</p>\n",
      "<p>[October 6, 2022] Yi Cheng, Ruifeng Yuan and Jiashuo Wang have their papers, Few-shot Query-Focused Summarization with Prefix-Merging, CARE: Causality Reasoning for Empathetic Responses by Conditional Graph Generation and Improving Multi-turn Emotional Support Dialogue Generation with Lookahead Strategy Planning, accepted into EMNLP2022. Congratulations!</p>\n",
      "<p>[April 21, 2022] Congratulations to Feiteng Mu, Yi Cheng and Wenge Liu. Their work on causality reasoning enhanced text generation and interpretable medical diagnosis were accepted into IJCAI2022.</p>\n",
      "<p>[February 10, 2022] Congratulations to Yongqi Li. His work on Conversational Question Answering over Text, Tables, and Images was accepted by ACL2022.</p>\n",
      "<p>[June 10, 2021] Jian Wang and Dongding Lin 2021 won the third prizes (fourth place) in 语言与智能技术竞赛: 多技能对话任务.^D6C23482280EC1B1989C1C67D673F1E973631F4199DA4E979D^pimgpsh_thumbnail_win_distr</p>\n",
      "<p>[July 26, 2017]: Yanran Li is selected as a scholarship recipient of the 2017 Women Techmakers Scholars Program!</p>\n",
      "<p>[September 30, 2016]: Ziqiang Cao won the 2016 Microsoft Research Asia PhD Fellowship Award!</p>\n",
      "\n"
     ]
    }
   ],
   "source": [
    "print(t)"
   ]
  },
  {
   "cell_type": "code",
   "execution_count": null,
   "metadata": {},
   "outputs": [],
   "source": []
  },
  {
   "cell_type": "code",
   "execution_count": null,
   "metadata": {},
   "outputs": [],
   "source": []
  }
 ],
 "metadata": {
  "kernelspec": {
   "display_name": "base",
   "language": "python",
   "name": "python3"
  },
  "language_info": {
   "codemirror_mode": {
    "name": "ipython",
    "version": 3
   },
   "file_extension": ".py",
   "mimetype": "text/x-python",
   "name": "python",
   "nbconvert_exporter": "python",
   "pygments_lexer": "ipython3",
   "version": "3.11.5"
  }
 },
 "nbformat": 4,
 "nbformat_minor": 2
}
